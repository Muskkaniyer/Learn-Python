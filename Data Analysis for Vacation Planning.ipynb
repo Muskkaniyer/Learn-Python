{
  "metadata": {
    "language_info": {
      "codemirror_mode": {
        "name": "python",
        "version": 3
      },
      "file_extension": ".py",
      "mimetype": "text/x-python",
      "name": "python",
      "nbconvert_exporter": "python",
      "pygments_lexer": "ipython3",
      "version": "3.8"
    },
    "kernelspec": {
      "name": "python",
      "display_name": "Python (Pyodide)",
      "language": "python"
    }
  },
  "nbformat_minor": 4,
  "nbformat": 4,
  "cells": [
    {
      "cell_type": "markdown",
      "source": "# Data Analysis for Vacation Planning\n\nYou're planning a vacation, and you need to decide which city you want to visit. You have shortlisted four cities and identified the return flight cost, daily hotel cost, and weekly car rental cost. While renting a car, you need to pay for entire weeks, even if you return the car sooner.\n\n\n| City | Return Flight (`$`) | Hotel per day (`$`) | Weekly Car Rental  (`$`) | \n|------|--------------------------|------------------|------------------------|\n| Paris|       200                |       20         |          200           |\n| London|      250                |       30         |          120           |\n| Dubai|       370                |       15         |          80           |\n| Mumbai|      450                |       10         |          70           |         \n\n\nAnswer the following questions using the data above:\n\n1. If you're planning a 1-week long trip, which city should you visit to spend the least amount of money?\n2. How does the answer to the previous question change if you change the trip's duration to four days, ten days or two weeks?\n3. If your total budget for the trip is `$1000`, which city should you visit to maximize the duration of your trip? Which city should you visit if you want to minimize the duration?\n4. How does the answer to the previous question change if your budget is `$600`, `$2000`, or `$1500`?\n\n*Hint: To answer these questions, it will help to define a function `cost_of_trip` with relevant inputs like flight cost, hotel rate, car rental rate, and duration of the trip. You may find the `math.ceil` function useful for calculating the total cost of car rental.*",
      "metadata": {}
    },
    {
      "cell_type": "code",
      "source": "# importing math library\n\nimport math",
      "metadata": {
        "trusted": true
      },
      "execution_count": 1,
      "outputs": []
    },
    {
      "cell_type": "code",
      "source": "# store the given values in the form of list\n\nParis = [200,20,200,\"Paris\"]\nLondon = [250,30,120,\"London\"]\nDubai = [370,15,80,\"Dubai\"]\nMumbai = [450,10,70,\"Mumbai\"]\nCities = [Paris,London,Dubai,Mumbai]",
      "metadata": {
        "trusted": true
      },
      "execution_count": 2,
      "outputs": []
    },
    {
      "cell_type": "code",
      "source": "\"\"\" \nMake a function that calculates the cost of trip.\n- Total cost of hotel rent = (cost of hotel per day * number of days)\n- Total cost of car rent = car rent * math.ceil(number of days/7)\n\n\"\"\"\n\ndef cost_of_trip(flight,hotel_cost,car_rent,num_of_days=0):\n    return flight+(hotel_cost*num_of_days)+(car_rent*math.ceil(num_of_days/7))",
      "metadata": {
        "trusted": true
      },
      "execution_count": 3,
      "outputs": []
    },
    {
      "cell_type": "code",
      "source": "\"\"\"\nWrite a function to calculate costs depending on the days of visit\n\n- the function here is 'days_to_visit' which takes 'days' as parameters\n- initialize the empty list 'costs' \n- Run a FOR loop unless and untill you find 'city in cities'\n- find the minimum cost using the min function\n- return the minimum cost\n\n\"\"\"\n\ndef days_to_visit(days):\n    costs = []\n    for city in Cities:\n        \n        # Here the cost of trip will be calculated for each city for the given number of days\n        cost = cost_of_trip(city[0], city[1], city[2],days)\n        \n        # Here the calculated cost will be added in this list untill the last city\n        costs.append((cost,city[3]))\n        \n    min_cost = min(costs)\n    return min_cost",
      "metadata": {
        "trusted": true
      },
      "execution_count": 11,
      "outputs": []
    },
    {
      "cell_type": "markdown",
      "source": "> 1. If you're planning a 1-week long trip, which city should you visit to spend the least amount of money?\n",
      "metadata": {}
    },
    {
      "cell_type": "code",
      "source": "\"\"\"\nNow to calculate the cost we just need to specify the number of days of visit\n\nThe function will calculate the cost of each city for the given number of days\nand return the city with minimum cost.\n\n\"\"\"\n\ndays_to_visit(7)",
      "metadata": {
        "trusted": true
      },
      "execution_count": 12,
      "outputs": [
        {
          "execution_count": 12,
          "output_type": "execute_result",
          "data": {
            "text/plain": "(540, 'Paris')"
          },
          "metadata": {}
        }
      ]
    },
    {
      "cell_type": "markdown",
      "source": "> 2. How does the answer to the previous question change if you change the trip's duration to four days, ten days or two weeks?",
      "metadata": {}
    },
    {
      "cell_type": "code",
      "source": "days_to_visit(4)",
      "metadata": {
        "trusted": true
      },
      "execution_count": 13,
      "outputs": [
        {
          "execution_count": 13,
          "output_type": "execute_result",
          "data": {
            "text/plain": "(480, 'Paris')"
          },
          "metadata": {}
        }
      ]
    },
    {
      "cell_type": "code",
      "source": "days_to_visit(10)",
      "metadata": {
        "trusted": true
      },
      "execution_count": 14,
      "outputs": [
        {
          "execution_count": 14,
          "output_type": "execute_result",
          "data": {
            "text/plain": "(680, 'Dubai')"
          },
          "metadata": {}
        }
      ]
    },
    {
      "cell_type": "code",
      "source": "days_to_visit(14)",
      "metadata": {
        "trusted": true
      },
      "execution_count": 15,
      "outputs": [
        {
          "execution_count": 15,
          "output_type": "execute_result",
          "data": {
            "text/plain": "(730, 'Mumbai')"
          },
          "metadata": {}
        }
      ]
    },
    {
      "cell_type": "markdown",
      "source": "> 3. If your total budget for the trip is `$600`, which city should you visit to maximize the duration of your trip? Which city should you visit if you want to minimize the duration?",
      "metadata": {}
    },
    {
      "cell_type": "code",
      "source": "def given_budget(budget,less_days=False):\n    days=1\n    cost=0\n    while cost<budget:\n        #copy of city cost \n        cost_before=cost\n        try:\n            #copy of costs dictionary, if exists\n            costs_before=costs.copy()\n        except:\n            #if costs dictionary doesn't exist, create an empty dictionary\n            costs_before={}\n        costs={}\n        for city in Cities:\n            cost = cost_of_trip(city[0],city[1],city[2],days)\n            costs[cost] = city[3]\n        if less_days:\n            cost=max(list(costs.keys()))\n            ''' The while loop breaks only after cost>600 condition is met.\n            when the condition is met, the costs dictionary updates to values that are greater than 600 \n            so we check if it is exceeding, if it does, we return the values from the previous dictionary cost_before. '''\n            if cost>=budget:\n                return costs_before[cost_before],days-1\n        else:   \n            cost=min(list(costs.keys()))\n            if cost>=budget:\n                return costs_before[cost_before],days-1\n        days+=1",
      "metadata": {
        "trusted": true
      },
      "execution_count": 16,
      "outputs": []
    },
    {
      "cell_type": "code",
      "source": "city_to_stay_maximum_days = given_budget(600)",
      "metadata": {
        "trusted": true
      },
      "execution_count": 17,
      "outputs": []
    },
    {
      "cell_type": "code",
      "source": "print(city_to_stay_maximum_days)",
      "metadata": {
        "trusted": true
      },
      "execution_count": 18,
      "outputs": [
        {
          "name": "stdout",
          "text": "('Paris', 7)\n",
          "output_type": "stream"
        }
      ]
    },
    {
      "cell_type": "code",
      "source": "city_to_stay_minimum_days=given_budget(600,less_days=True)",
      "metadata": {
        "trusted": true
      },
      "execution_count": 19,
      "outputs": []
    },
    {
      "cell_type": "code",
      "source": "print(city_to_stay_minimum_days)",
      "metadata": {
        "trusted": true
      },
      "execution_count": 20,
      "outputs": [
        {
          "name": "stdout",
          "text": "('Mumbai', 7)\n",
          "output_type": "stream"
        }
      ]
    },
    {
      "cell_type": "markdown",
      "source": "> 4. How does the answer to the previous question change if your budget is `$1000`, `$2000`, or `$1500`?",
      "metadata": {}
    },
    {
      "cell_type": "markdown",
      "source": "- For 1000 dollars",
      "metadata": {}
    },
    {
      "cell_type": "code",
      "source": "city_to_stay_maximum_days=given_budget(1000)\nprint(city_to_stay_maximum_days)",
      "metadata": {
        "trusted": true
      },
      "execution_count": 21,
      "outputs": [
        {
          "name": "stdout",
          "text": "('Mumbai', 26)\n",
          "output_type": "stream"
        }
      ]
    },
    {
      "cell_type": "code",
      "source": "city_to_stay_minimum_days=given_budget(1000,less_days=True)\nprint(city_to_stay_minimum_days)",
      "metadata": {
        "trusted": true
      },
      "execution_count": 22,
      "outputs": [
        {
          "name": "stdout",
          "text": "('London', 14)\n",
          "output_type": "stream"
        }
      ]
    },
    {
      "cell_type": "markdown",
      "source": "- For 2000 dollars",
      "metadata": {}
    },
    {
      "cell_type": "code",
      "source": "city_to_stay_maximum_days=given_budget(2000)\nprint(city_to_stay_maximum_days)",
      "metadata": {
        "trusted": true
      },
      "execution_count": 23,
      "outputs": [
        {
          "name": "stdout",
          "text": "('Mumbai', 77)\n",
          "output_type": "stream"
        }
      ]
    },
    {
      "cell_type": "code",
      "source": "city_to_stay_minimum=given_budget(2000,less_days=True)\nprint(city_to_stay_minimum)",
      "metadata": {
        "trusted": true
      },
      "execution_count": 24,
      "outputs": [
        {
          "name": "stdout",
          "text": "('London', 35)\n",
          "output_type": "stream"
        }
      ]
    },
    {
      "cell_type": "markdown",
      "source": "- For 1500 dollars",
      "metadata": {}
    },
    {
      "cell_type": "code",
      "source": "city_to_stay_maximum_days=given_budget(1500)\nprint(city_to_stay_maximum_days)",
      "metadata": {
        "trusted": true
      },
      "execution_count": 25,
      "outputs": [
        {
          "name": "stdout",
          "text": "('Mumbai', 49)\n",
          "output_type": "stream"
        }
      ]
    },
    {
      "cell_type": "code",
      "source": "city_to_stay_minimum_days=given_budget(1500,less_days=True)\nprint(city_to_stay_minimum_days)",
      "metadata": {
        "trusted": true
      },
      "execution_count": 26,
      "outputs": [
        {
          "name": "stdout",
          "text": "('Paris', 24)\n",
          "output_type": "stream"
        }
      ]
    }
  ]
}